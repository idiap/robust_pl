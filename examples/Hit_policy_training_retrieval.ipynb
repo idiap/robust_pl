{
 "cells": [
  {
   "cell_type": "markdown",
   "metadata": {},
   "source": [
    "### Robust Hit Policy Retrieval conditioning on the instance-specific parameters"
   ]
  },
  {
   "cell_type": "code",
   "execution_count": 1,
   "metadata": {},
   "outputs": [],
   "source": [
    "import torch\n",
    "import sys\n",
    "sys.path.append('../')\n",
    "import time\n",
    "from robust_tt import RTT \n",
    "import tntorch as tn\n",
    "from dyn_models.dynamic_systems_mm import MiniGlof\n",
    "from tt_utils import cross_approximate\n",
    "import numpy as np\n",
    "from tt_utils import contract_sites\n",
    "torch.set_default_dtype(torch.float64)"
   ]
  },
  {
   "cell_type": "code",
   "execution_count": 2,
   "metadata": {},
   "outputs": [
    {
     "name": "stdout",
     "output_type": "stream",
     "text": [
      "cuda\n"
     ]
    }
   ],
   "source": [
    "device = torch.device(\"cuda\" if torch.cuda.is_available() else \"cpu\")\n",
    "print(device)\n"
   ]
  },
  {
   "cell_type": "code",
   "execution_count": 3,
   "metadata": {},
   "outputs": [],
   "source": [
    "# dim=5\n",
    "w = 1\n",
    "v_max = 5\n",
    "state_max = torch.tensor([0,0]).to(device) # (x, y) \n",
    "state_min =  torch.tensor([-w,-w]).to(device)\n",
    "\n",
    "dt= 0.01\n",
    "T = 1\n",
    "\n",
    "param_max = torch.tensor([1.5, 0.8]).to(device) #(mass, mu)\n",
    "param_min = torch.tensor([0.2, 0.2]).to(device) \n",
    "# n = 100\n",
    "n_state = 100\n",
    "n_param = 500\n",
    "n_action = 100\n",
    "\n",
    "I_max = 5 # maximum impact\n",
    "\n",
    "action_max = torch.tensor([I_max, I_max]).to(device) # (m_x, m_y) momentum\n",
    "action_min = torch.tensor([1e-6, 1e-6]).to(device) \n",
    "dyn_system = MiniGlof(state_min=state_min, state_max=state_max, action_max=action_max, action_min=action_min,dt=dt, device=device)\n",
    "\n",
    "domain_state = [torch.linspace(state_min[i],state_max[i],n_state).to(device) for i in range(len(state_max))]\n",
    "domain_param = [torch.linspace(param_min[i],param_max[i],n_param).to(device) for i in range(len(param_max))]\n",
    "domain_action =[torch.linspace(action_min[i],action_max[i],n_action).to(device) for i in range(len(action_max))]\n",
    "domain_state_param = domain_state + domain_param\n",
    "domain_state_action = domain_state + domain_action"
   ]
  },
  {
   "cell_type": "code",
   "execution_count": 4,
   "metadata": {},
   "outputs": [],
   "source": [
    "def reward_func(state, action):\n",
    "    cost = (torch.linalg.norm(state, dim=-1))**2 + (torch.linalg.norm(action, dim=-1)/100)**2*0.01\n",
    "    rewards = -1*cost\n",
    "    return rewards"
   ]
  },
  {
   "cell_type": "code",
   "execution_count": 5,
   "metadata": {},
   "outputs": [],
   "source": [
    "def dynamics(state_param, I):\n",
    "    pos = state_param[:, :2]\n",
    "    m = state_param[:, 2].view(-1,1)\n",
    "    u = state_param[:, 3].view(-1,1)\n",
    "    t = torch.linalg.norm(I, dim=-1)[:, None]/(m*torch.linalg.norm(u*9.81, dim=-1)[:, None])\n",
    "    # print(t.shape)\n",
    "    acc = u*9.81* I/torch.linalg.norm(I, dim=-1)[:, None]\n",
    "    state = pos + I/m * t - 0.5*acc*t**2\n",
    "\n",
    "    return state"
   ]
  },
  {
   "cell_type": "code",
   "execution_count": 6,
   "metadata": {},
   "outputs": [],
   "source": [
    "\n",
    "def function(x, flag='train'):  # Input arguments are vectors\n",
    "    state_param = x[:, :4]\n",
    "    I = x[:, 4:]\n",
    "    state = dynamics(state_param, I)\n",
    "    if flag=='test':\n",
    "        print(\"state\", state)\n",
    "    r = reward_func(state, I)\n",
    "    return r"
   ]
  },
  {
   "cell_type": "code",
   "execution_count": 7,
   "metadata": {},
   "outputs": [
    {
     "name": "stdout",
     "output_type": "stream",
     "text": [
      "cross device is cuda\n",
      "Cross-approximation over a 6D domain containing 2.5e+13 grid points:\n",
      "iter: 0  | eps: 3.082e-01 | time:   0.6901 | largest rank:   1\n",
      "iter: 1  | eps: 2.698e-05 | time:   0.7189 | largest rank:   4 <- converged: eps < 0.0001\n",
      "Did 42300 function evaluations, which took 0.006001s (7.048e+06 evals/s)\n",
      "\n",
      "time for function approximation: 0.75156569480896\n",
      "advantage function in TT format: 6D TT tensor:\n",
      "\n",
      " 100 100 500 500 100 100\n",
      "  |   |   |   |   |   |\n",
      " (0) (1) (2) (3) (4) (5)\n",
      " / \\ / \\ / \\ / \\ / \\ / \\\n",
      "1   3   4   4   4   4   1\n",
      "\n"
     ]
    }
   ],
   "source": [
    "\n",
    "domain = domain_state_param + domain_action\n",
    "t0 = time.time()\n",
    "adv_model = cross_approximate(fcn=function, max_batch=10**4, domain=domain, device=device, verbose=True)\n",
    "print(\"time for function approximation:\", time.time()-t0)\n",
    "print(\"advantage function in TT format:\", adv_model)"
   ]
  },
  {
   "cell_type": "code",
   "execution_count": 8,
   "metadata": {},
   "outputs": [],
   "source": [
    "\n",
    "### Given policy in TT format, conditioning on the state and param, find the optimal action\n",
    "def forward_model(state_param,action):\n",
    "    return dyn_system.fwd_simulate(state_param,action)\n",
    "\n",
    "def reward(state_param,action):\n",
    "    rewards = dyn_system.reward_state_action(state_param,action)\n",
    "    return rewards\n",
    "\n",
    "rtt = RTT(domain_state=domain_state+domain_param, domain_param=domain_param,\n",
    "                domain_action=domain_action, \n",
    "                reward=reward, \n",
    "                normalize_reward=False,\n",
    "                forward_model=forward_model, \n",
    "                gamma=0.99, dt=dt,\n",
    "                rmax_v=100, rmax_a=100, \n",
    "                nswp_v=5, nswp_a=5, \n",
    "                kickrank_v=10, kickrank_a=20,\n",
    "                max_batch_v=10**4,max_batch_a=10**5,\n",
    "                eps_cross_v=1e-3,\n",
    "                eps_cross_a=1e-3,\n",
    "                eps_round_v=1e-4, \n",
    "                eps_round_a=1e-3, \n",
    "                n_samples=100, \n",
    "                verbose=True,\n",
    "                device=device) # action = 'deterministic_tt', 'stochastic_tt', 'random'"
   ]
  },
  {
   "cell_type": "code",
   "execution_count": 9,
   "metadata": {},
   "outputs": [],
   "source": [
    "\n",
    "rtt.a_model = adv_model\n",
    "policy_model = rtt.normalize_tt_a(adv_model)\n",
    "rtt.policy_model = policy_model\n",
    "rtt.policy_model_cores = policy_model.tt().cores[:]\n"
   ]
  },
  {
   "cell_type": "markdown",
   "metadata": {},
   "source": [
    "### Policy retrieval through domain contaction"
   ]
  },
  {
   "cell_type": "code",
   "execution_count": 10,
   "metadata": {},
   "outputs": [],
   "source": [
    "# initialize the test state\n",
    "n_test = 100\n",
    "dim_state = len(domain_state)\n",
    "init_state = torch.zeros((n_test,dim_state))\n",
    "for i in range(dim_state):\n",
    "    init_state[:,i] = state_min[i] + torch.rand(n_test).to(device)*(state_max[i]-state_min[i])\n",
    "state = init_state.to(device)"
   ]
  },
  {
   "cell_type": "code",
   "execution_count": 11,
   "metadata": {},
   "outputs": [],
   "source": [
    "tol = torch.tensor([0.10, 0.10]).to(device)\n",
    "def contract_callback(rtt, state, policy_model, real_param, T=1,  animation=False):\n",
    "    print(\"Testing....\")\n",
    "\n",
    "    traj = state[:,:2].clone()[:,None,:]\n",
    "    \n",
    "    impact = rtt.policy_ttgo_contract(state, policy_model, device=device)\n",
    "    m = real_param[:, 0].view(-1,1)\n",
    "    u = real_param[:, 1].view(-1,1)\n",
    "    acc = u*9.81* impact/torch.linalg.norm(impact, dim=-1)[:, None]\n",
    "    acc = torch.clamp(acc, min=-10, max=0)\n",
    "    state_param = torch.cat((state, real_param), dim=1)\n",
    "    final_state = dynamics(state_param, impact)\n",
    "\n",
    "    print(\"Final state: \", final_state[:10])\n",
    "\n",
    "    #generate trajectory for plot\n",
    "    num_points = int(T/dt)  \n",
    "    alpha = torch.linspace(0, 1, steps=num_points, device=state.device).view(1, num_points, 1)\n",
    "    state_exp = state[:, None, :]\n",
    "    final_exp = final_state[:, None, :]\n",
    "    traj = state_exp + alpha * (final_exp - state_exp)\n",
    "    \n",
    "    suc_rate = torch.sum(torch.all(torch.abs(final_state[:,:2])<=tol[:2], dim=1))/n_test\n",
    "    print(\"Success rate: \", suc_rate)\n",
    "\n",
    "    from matplotlib import pyplot as plt\n",
    "    from plot_utils import plot_point_mass\n",
    "    plt=plot_point_mass(traj[:10, :,:2].to('cpu'),x_target=torch.tensor([0,0]).to('cpu'), figsize=5, xmax=1)\n",
    "    plt.grid()\n",
    "    plt.show()\n",
    "    "
   ]
  },
  {
   "cell_type": "code",
   "execution_count": 12,
   "metadata": {},
   "outputs": [
    {
     "name": "stdout",
     "output_type": "stream",
     "text": [
      "Testing....\n",
      "Final state:  tensor([[ 0.005909, -0.000349],\n",
      "        [-0.026554,  0.003257],\n",
      "        [-0.000452,  0.010879],\n",
      "        [ 0.001731,  0.000159],\n",
      "        [-0.006698, -0.002717],\n",
      "        [-0.004361, -0.003248],\n",
      "        [ 0.005264, -0.003234],\n",
      "        [ 0.007779, -0.003025],\n",
      "        [-0.002026, -0.001801],\n",
      "        [ 0.004305,  0.001605]], device='cuda:0')\n",
      "Success rate:  tensor(0.980000, device='cuda:0')\n"
     ]
    },
    {
     "data": {
      "image/png": "[encoded data removed]",
      "text/plain": [
       "<Figure size 500x500 with 1 Axes>"
      ]
     },
     "metadata": {},
     "output_type": "display_data"
    }
   ],
   "source": [
    "site_x = [2, 3]\n",
    "num_para = len(site_x)\n",
    "\n",
    "# initialize the real parameter\n",
    "mean_id = torch.randint(0, n_param-1, (num_para,)).to(device)\n",
    "real_param = torch.zeros(num_para).to(device)\n",
    "for i in range(num_para):\n",
    "    real_param[i] = domain_param[i][mean_id[i]]\n",
    "real_param = real_param.view(1,-1).expand(n_test,-1).to(device)\n",
    "\n",
    "# get parameter-conditioned advantage function through domain contraction\n",
    "rtt.domain_state_action = domain_state + domain_action # the previous domain_state_action is domain_state + domain_param + domain_action\n",
    "contract_policy_model = rtt.get_contract_policy(site_x=site_x, mean_id=mean_id, sigma=n_param, length=n_param*1/100, flag = 'uniform', device=device)\n",
    "\n",
    "contract_callback(rtt, state, contract_policy_model, real_param, T=T, animation=False)"
   ]
  },
  {
   "cell_type": "code",
   "execution_count": null,
   "metadata": {},
   "outputs": [],
   "source": []
  }
 ],
 "metadata": {
  "kernelspec": {
   "display_name": "tt",
   "language": "python",
   "name": "python3"
  },
  "language_info": {
   "codemirror_mode": {
    "name": "ipython",
    "version": 3
   },
   "file_extension": ".py",
   "mimetype": "text/x-python",
   "name": "python",
   "nbconvert_exporter": "python",
   "pygments_lexer": "ipython3",
   "version": "3.7.12"
  },
  "orig_nbformat": 4
 },
 "nbformat": 4,
 "nbformat_minor": 2
}
